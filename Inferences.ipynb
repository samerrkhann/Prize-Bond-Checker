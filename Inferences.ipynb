{
 "cells": [
  {
   "cell_type": "markdown",
   "id": "75e2de3d",
   "metadata": {},
   "source": [
    "## Importing Libraries"
   ]
  },
  {
   "cell_type": "code",
   "execution_count": 1,
   "id": "16ad6b58",
   "metadata": {},
   "outputs": [],
   "source": [
    "import pandas as pd\n",
    "import numpy as np\n",
    "import matplotlib.pyplot as plt\n",
    "import cv2\n",
    "import easyocr\n",
    "import time"
   ]
  },
  {
   "cell_type": "markdown",
   "id": "58e1e40c",
   "metadata": {},
   "source": [
    "## Preparing Data"
   ]
  },
  {
   "cell_type": "code",
   "execution_count": 2,
   "id": "39cdbc98",
   "metadata": {},
   "outputs": [],
   "source": [
    "df = pd.read_csv('data.csv',index_col = 'Unnamed: 0',dtype=str)"
   ]
  },
  {
   "cell_type": "code",
   "execution_count": 3,
   "id": "4dc19a3e",
   "metadata": {},
   "outputs": [],
   "source": [
    "def win_check(den,b_nmbr):\n",
    "    den_trim = df[df['Denomination'] == den]\n",
    "    checked = den_trim[den_trim['Bond No.'] == b_nmbr]\n",
    "    if len(checked) == 0:\n",
    "        return 'Hard Luck'\n",
    "    else :\n",
    "        return checked"
   ]
  },
  {
   "cell_type": "code",
   "execution_count": 4,
   "id": "181bbff1",
   "metadata": {},
   "outputs": [
    {
     "name": "stderr",
     "output_type": "stream",
     "text": [
      "Using CPU. Note: This module is much faster with a GPU.\n"
     ]
    }
   ],
   "source": [
    "reader = easyocr.Reader(['en'],gpu=False) "
   ]
  },
  {
   "cell_type": "markdown",
   "id": "9708c336",
   "metadata": {},
   "source": [
    "## Using Rectangular Region"
   ]
  },
  {
   "cell_type": "markdown",
   "id": "c8173b77",
   "metadata": {},
   "source": [
    "Workflow: Here the image is first taken and because of my camera settings, it is first rotated to correct orientation. The region which contain the number of the prize bond is fed into the EasyOCR. From there, the number is extracted and fed into the dataframe to check if that has won any prize."
   ]
  },
  {
   "cell_type": "code",
   "execution_count": 5,
   "id": "2e095701",
   "metadata": {},
   "outputs": [
    {
     "name": "stdout",
     "output_type": "stream",
     "text": [
      "Bond No:  751144\n",
      "Hard Luck\n"
     ]
    }
   ],
   "source": [
    "cap = cv2.VideoCapture(1)\n",
    "angle = 270\n",
    "cons = np.array([0,1,2,3,4])\n",
    "\n",
    "cols= int(cap.get(3))\n",
    "rows= int(cap.get(4))\n",
    "\n",
    "# Rotating image from center with an angle of 45 degrees at the same scale.\n",
    "rotation_matrix = cv2.getRotationMatrix2D((cols/2,rows/2), angle, 1)\n",
    "\n",
    "\n",
    "while cap.isOpened():\n",
    "    ret, frame = cap.read()\n",
    "\n",
    "    # apply the transformation\n",
    "    rotated = cv2.warpAffine(frame, rotation_matrix, (cols,rows))\n",
    "    copy = rotated.copy()\n",
    "    rot = cv2.rectangle(copy,(400,100),(480,150),(0,255,0),2)\n",
    "    roi = rotated[100:150,400:480]\n",
    "    cv2.imshow('frame',rot)\n",
    "    cv2.imshow('roi',roi)\n",
    "    k = cv2.waitKey(1)\n",
    "    result = reader.readtext(roi,allowlist='0123456789')\n",
    "    \n",
    "    \n",
    "    if not len(result) == 0:\n",
    "        if result[0][2] > 0.7:\n",
    "            if len(result[0][1]) ==6:\n",
    "                cons = np.append(cons,result[0][1])\n",
    "                \n",
    "            if np.all(cons[-5:] == cons[-5]):\n",
    "                win =win_check('200',cons[-5])\n",
    "                print('Bond No: ',cons[-5])\n",
    "                print(win)\n",
    "                break\n",
    "    \n",
    "    if k == ord('q'):\n",
    "        break\n",
    "    \n",
    "cap.release()\n",
    "cv2.destroyAllWindows()"
   ]
  },
  {
   "cell_type": "markdown",
   "id": "4831e1b9",
   "metadata": {},
   "source": [
    "## Using Contours"
   ]
  },
  {
   "cell_type": "markdown",
   "id": "d5255231",
   "metadata": {},
   "source": [
    "Workflow: Here, the image is taken which is then preprocessed (grayed, blurred, and thresholded) which is then fed to canny edge detector which helps in drawing the contours. Only the biggest rectangular contours are taken further for inferencing from where a specified region, is fed into an EasyOCR reader which helps in making the inferences."
   ]
  },
  {
   "cell_type": "markdown",
   "id": "c0f67e28",
   "metadata": {},
   "source": [
    "These helper functions are taken from the utils.py provided by https://github.com/murtazahassan"
   ]
  },
  {
   "cell_type": "code",
   "execution_count": 6,
   "id": "a7b1ec2d",
   "metadata": {},
   "outputs": [],
   "source": [
    "## To extract biggest contour\n",
    "def biggestContour(contours):\n",
    "    biggest = np.array([])\n",
    "    max_area = 0\n",
    "    for i in contours:\n",
    "        area = cv2.contourArea(i)\n",
    "        if area > 5000:\n",
    "            peri = cv2.arcLength(i, True)\n",
    "            approx = cv2.approxPolyDP(i, 0.02 * peri, True)\n",
    "            if area > max_area and len(approx) == 4:\n",
    "                biggest = approx\n",
    "                max_area = area\n",
    "    return biggest,max_area\n",
    "\n",
    "## To reorder and arrange the points\n",
    "def reorder(myPoints):\n",
    "\n",
    "    myPoints = myPoints.reshape((4, 2))\n",
    "    myPointsNew = np.zeros((4, 1, 2), dtype=np.int32)\n",
    "    add = myPoints.sum(1)\n",
    "\n",
    "    myPointsNew[0] = myPoints[np.argmin(add)]\n",
    "    myPointsNew[3] =myPoints[np.argmax(add)]\n",
    "    diff = np.diff(myPoints, axis=1)\n",
    "    myPointsNew[1] =myPoints[np.argmin(diff)]\n",
    "    myPointsNew[2] = myPoints[np.argmax(diff)]\n",
    "\n",
    "    return myPointsNew\n",
    "\n",
    "## To draw rectanlge \n",
    "def drawRectangle(img,biggest,thickness):\n",
    "    cv2.line(img, (biggest[0][0][0], biggest[0][0][1]), (biggest[1][0][0], biggest[1][0][1]), (0, 255, 0), thickness)\n",
    "    cv2.line(img, (biggest[0][0][0], biggest[0][0][1]), (biggest[2][0][0], biggest[2][0][1]), (0, 255, 0), thickness)\n",
    "    cv2.line(img, (biggest[3][0][0], biggest[3][0][1]), (biggest[2][0][0], biggest[2][0][1]), (0, 255, 0), thickness)\n",
    "    cv2.line(img, (biggest[3][0][0], biggest[3][0][1]), (biggest[1][0][0], biggest[1][0][1]), (0, 255, 0), thickness)\n",
    "\n",
    "    return img"
   ]
  },
  {
   "cell_type": "code",
   "execution_count": 7,
   "id": "0258f670",
   "metadata": {},
   "outputs": [
    {
     "name": "stdout",
     "output_type": "stream",
     "text": [
      "Bond No:  751144\n",
      "Hard Luck\n"
     ]
    }
   ],
   "source": [
    "cap = cv2.VideoCapture(1)\n",
    "angle = 270\n",
    "cons = np.array([0,1,2,3,4])\n",
    "cols= int(cap.get(3))\n",
    "rows= int(cap.get(4))\n",
    "\n",
    "# Rotating image from center with an angle of 45 degrees at the same scale.\n",
    "rotation_matrix = cv2.getRotationMatrix2D((cols/2,rows/2), angle, 1)\n",
    "\n",
    "\n",
    "while cap.isOpened():\n",
    "    ret, frame = cap.read()\n",
    "    #########################\n",
    "    rotated = cv2.warpAffine(frame, rotation_matrix, (cols,rows))\n",
    "    img = cv2.resize(rotated, (cols, rows)) # RESIZE IMAGE\n",
    "    imgGray = cv2.cvtColor(img, cv2.COLOR_BGR2GRAY) # CONVERT IMAGE TO GRAY SCALE\n",
    "    imgBlur = cv2.GaussianBlur(imgGray, (5, 5), 1) # ADD GAUSSIAN BLUR\n",
    "    imgThreshold = cv2.Canny(imgBlur,255,0) # APPLY CANNY BLUR\n",
    "    kernel = np.ones((5, 5))  \n",
    "    imgDial = cv2.dilate(imgThreshold, kernel, iterations=2) # APPLY DILATION\n",
    "    imgThreshold = cv2.erode(imgDial, kernel, iterations=2)  # APPLY EROSION\n",
    "    \n",
    "    ## FIND ALL COUNTOURS\n",
    "    imgContours = img.copy() # COPY IMAGE FOR DISPLAY PURPOSES\n",
    "    imgBigContour = img.copy() # COPY IMAGE FOR DISPLAY PURPOSES\n",
    "    contours, hierarchy = cv2.findContours(imgThreshold, cv2.RETR_EXTERNAL, cv2.CHAIN_APPROX_SIMPLE) # FIND ALL CONTOURS\n",
    "    cv2.drawContours(imgContours, contours, -1, (0, 255, 0), 10) # DRAW ALL DETECTED CONTOURS\n",
    "    \n",
    "    # FIND THE BIGGEST COUNTOUR\n",
    "    biggest, maxArea = biggestContour(contours) # FIND THE BIGGEST CONTOUR\n",
    "    if biggest.size != 0:\n",
    "        biggest=reorder(biggest)\n",
    "        cv2.drawContours(imgBigContour, biggest, -1, (0, 255, 0), 20) # DRAW THE BIGGEST CONTOUR\n",
    "        imgBigContour = drawRectangle(imgBigContour,biggest,2)\n",
    "        pts1 = np.float32(biggest) # PREPARE POINTS FOR WARP\n",
    "        pts2 = np.float32([[0, 0],[rows, 0], [0, cols],[rows, cols]]) # PREPARE POINTS FOR WARP\n",
    "        matrix = cv2.getPerspectiveTransform(pts1, pts2)\n",
    "        imgWarpColored = cv2.warpPerspective(img, matrix, (rows, cols))\n",
    "        imgWarpColored = cv2.resize(imgWarpColored,(cols,rows))\n",
    "        \n",
    "        roi = imgWarpColored[110:180,440:580].copy()\n",
    "        result = reader.readtext(roi,allowlist='0123456789')\n",
    "\n",
    "\n",
    "        if not len(result) == 0:\n",
    "            cons = np.append(cons,result[0][1][-6:])\n",
    "            if np.all(cons[-3:] == cons[-3]):\n",
    "                win =win_check('200',cons[-3])\n",
    "                print('Bond No: ',cons[-3])\n",
    "                print(win)\n",
    "                break            \n",
    "\n",
    "        cv2.imshow('warped',roi)\n",
    "        cv2.imshow('big',imgBigContour)\n",
    "        \n",
    "    cv2.imshow('frame',imgContours)\n",
    "    #########################\n",
    "    k = cv2.waitKey(1)\n",
    "    if k == ord('q'):\n",
    "        break\n",
    "    \n",
    "cap.release()\n",
    "cv2.destroyAllWindows()"
   ]
  },
  {
   "cell_type": "markdown",
   "id": "26ce1e51",
   "metadata": {},
   "source": [
    "## Using Warp Perspective - Beta Build"
   ]
  },
  {
   "cell_type": "markdown",
   "id": "c638a6ef",
   "metadata": {},
   "source": [
    "Below is the beta version of executing the same task using ORB feature matching."
   ]
  },
  {
   "cell_type": "code",
   "execution_count": 8,
   "id": "572b5341",
   "metadata": {},
   "outputs": [],
   "source": [
    "imgQ=cv2.imread('query_img.jpg')\n",
    "orb = cv2.ORB_create(1000)\n",
    "kp1, des1 = orb.detectAndCompute(imgQ,None)"
   ]
  },
  {
   "cell_type": "code",
   "execution_count": 9,
   "id": "a06916aa",
   "metadata": {},
   "outputs": [],
   "source": [
    "cap = cv2.VideoCapture(1)\n",
    "angle = 270\n",
    "cons = np.array([0,1,2,3,4])\n",
    "\n",
    "cols= int(cap.get(3))\n",
    "rows= int(cap.get(4))\n",
    "\n",
    "orb = cv2.ORB_create(1000)\n",
    "kp1, des1 = orb.detectAndCompute(imgQ,None)\n",
    "\n",
    "\n",
    "while cap.isOpened():\n",
    "    ret, frame = cap.read()\n",
    "\n",
    "    try:\n",
    "        kp2, des2 = orb.detectAndCompute(frame,None)\n",
    "        bf = cv2.BFMatcher(cv2.NORM_HAMMING)\n",
    "        matches = bf.match(des2, des1)\n",
    "        matches = sorted(matches,key = lambda x:x.distance)\n",
    "        good = matches[:int(len(matches) * 0.4)]\n",
    "        srcPoints = np.float32([kp2[m.queryIdx].pt for m in good]).reshape(-1,1,2)\n",
    "        dstPoints = np.float32([kp1[m.trainIdx].pt for m in good]).reshape(-1,1,2)\n",
    "        M , _ = cv2.findHomography(srcPoints, dstPoints, cv2.RANSAC, 5.0)\n",
    "        imgScan = cv2.warpPerspective(frame,M,(1000,500))\n",
    "        result = reader.readtext(imgScan[123:163,723:886],allowlist='0123456789')\n",
    "        cv2.imshow('warp', imgScan)\n",
    "        cons = np.append(cons,result[0][1][-6:])\n",
    "        if np.all(cons[-3:] == cons[-3]):\n",
    "            win =win_check('200',cons[-3])\n",
    "            print('Bond No: ',cons[-3])\n",
    "            print(win)\n",
    "            break\n",
    "    except:\n",
    "        pass\n",
    "\n",
    "    cv2.imshow('complete',frame)\n",
    "    \n",
    "    k = cv2.waitKey(1)\n",
    "    if k == ord('q'):\n",
    "        break\n",
    "    \n",
    "cap.release()\n",
    "cv2.destroyAllWindows()"
   ]
  },
  {
   "cell_type": "code",
   "execution_count": null,
   "id": "ebe02127",
   "metadata": {},
   "outputs": [],
   "source": []
  }
 ],
 "metadata": {
  "kernelspec": {
   "display_name": "Python 3",
   "language": "python",
   "name": "python3"
  },
  "language_info": {
   "codemirror_mode": {
    "name": "ipython",
    "version": 3
   },
   "file_extension": ".py",
   "mimetype": "text/x-python",
   "name": "python",
   "nbconvert_exporter": "python",
   "pygments_lexer": "ipython3",
   "version": "3.8.8"
  }
 },
 "nbformat": 4,
 "nbformat_minor": 5
}
